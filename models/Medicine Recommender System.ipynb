{
 "cells": [
  {
   "cell_type": "code",
   "execution_count": 14,
   "id": "225354fe",
   "metadata": {},
   "outputs": [],
   "source": [
    "import pandas as pd\n",
    "import numpy as np\n",
    "from difflib import get_close_matches"
   ]
  },
  {
   "cell_type": "code",
   "execution_count": 15,
   "id": "ec27de75",
   "metadata": {},
   "outputs": [],
   "source": [
    "def load_data():\n",
    "    data_files = {\n",
    "        \"precautions\": \"precautions_df.csv\",\n",
    "        \"workout\": \"workout_df.csv\",\n",
    "        \"description\": \"description.csv\",\n",
    "        \"medications\": \"medications.csv\",\n",
    "        \"diets\": \"diets.csv\",\n",
    "        \"symptoms\": \"symtoms_df.csv\"\n",
    "    }\n",
    "    return {key: pd.read_csv(value) for key, value in data_files.items()}\n",
    "\n",
    "data = load_data()"
   ]
  },
  {
   "cell_type": "code",
   "execution_count": 16,
   "id": "5ba2c0d8",
   "metadata": {},
   "outputs": [
    {
     "data": {
      "text/plain": [
       "['Fungal infection',\n",
       " 'Allergy',\n",
       " 'GERD',\n",
       " 'Chronic cholestasis',\n",
       " 'Drug Reaction',\n",
       " 'Peptic ulcer disease',\n",
       " 'AIDS',\n",
       " 'Diabetes',\n",
       " 'Gastroenteritis',\n",
       " 'Bronchial Asthma',\n",
       " 'Hypertension',\n",
       " 'Migraine',\n",
       " 'Cervical spondylosis',\n",
       " 'Paralysis (brain hemorrhage)',\n",
       " 'Jaundice',\n",
       " 'Malaria',\n",
       " 'Chicken pox',\n",
       " 'Dengue',\n",
       " 'Typhoid',\n",
       " 'hepatitis A',\n",
       " 'Hepatitis B',\n",
       " 'Hepatitis C',\n",
       " 'Hepatitis D',\n",
       " 'Hepatitis E',\n",
       " 'Alcoholic hepatitis',\n",
       " 'Tuberculosis',\n",
       " 'Common Cold',\n",
       " 'Pneumonia',\n",
       " 'Dimorphic hemmorhoids(piles)',\n",
       " 'Heart attack',\n",
       " 'Varicose veins',\n",
       " 'Hypothyroidism',\n",
       " 'Hyperthyroidism',\n",
       " 'Hypoglycemia',\n",
       " 'Osteoarthristis',\n",
       " 'Arthritis',\n",
       " '(vertigo) Paroymsal Positional Vertigo',\n",
       " 'Acne',\n",
       " 'Urinary tract infection',\n",
       " 'Psoriasis',\n",
       " 'Impetigo']"
      ]
     },
     "execution_count": 16,
     "metadata": {},
     "output_type": "execute_result"
    }
   ],
   "source": [
    "all_diseases = data['medications']['Disease'].dropna().unique().tolist()\n",
    "all_diseases"
   ]
  },
  {
   "cell_type": "code",
   "execution_count": 17,
   "id": "eaaa297c",
   "metadata": {},
   "outputs": [],
   "source": [
    "def correct_spelling(input_text, choices):\n",
    "    match = get_close_matches(input_text, choices, n=1, cutoff=0.8)\n",
    "    return match[0] if match else input_text"
   ]
  },
  {
   "cell_type": "code",
   "execution_count": 18,
   "id": "14c9d7ff",
   "metadata": {},
   "outputs": [],
   "source": [
    "def fetch_medicine(disease):\n",
    "    medicine_info = {}\n",
    "    \n",
    "    # Fetch medicines first\n",
    "    medicine_info['medications'] = data['medications'].loc[\n",
    "        data['medications']['Disease'] == disease, 'Medication'\n",
    "    ].dropna().tolist()\n",
    "    \n",
    "    # If disease is found, fetch additional details\n",
    "    if medicine_info['medications']:\n",
    "        medicine_info['description'] = \" \".join(data['description'].loc[\n",
    "            data['description']['Disease'] == disease, 'Description'\n",
    "        ].values)\n",
    "\n",
    "        medicine_info['precautions'] = data['precautions'].loc[\n",
    "            data['precautions']['Disease'] == disease, ['Precaution_1', 'Precaution_2', 'Precaution_3', 'Precaution_4']\n",
    "        ].dropna().values.tolist()\n",
    "\n",
    "        medicine_info['workout'] = data['workout'].loc[\n",
    "            data['workout']['disease'] == disease, 'workout'\n",
    "        ].dropna().tolist()\n",
    "\n",
    "        medicine_info['diets'] = data['diets'].loc[\n",
    "            data['diets']['Disease'] == disease, 'Diet'\n",
    "        ].dropna().tolist()\n",
    "    \n",
    "    return medicine_info"
   ]
  },
  {
   "cell_type": "code",
   "execution_count": 19,
   "id": "776caa66",
   "metadata": {},
   "outputs": [
    {
     "name": "stdout",
     "output_type": "stream",
     "text": [
      "Enter your disease: hepatitis A\n",
      "\n",
      "Recommended Medicines for: hepatitis A\n",
      "\n",
      "Medications:\n",
      "1. ['Vaccination', 'Antiviral drugs', 'IV fluids', 'Blood transfusions', 'Liver transplant']\n",
      "\n",
      "Description: hepatitis A is a viral liver disease.\n",
      "\n",
      "Precautions:\n",
      "1. Consult nearest hospital\n",
      "2. wash hands through\n",
      "3. avoid fatty spicy food\n",
      "4. medication\n",
      "\n",
      "Workout Recommendations:\n",
      "1. Stay hydrated\n",
      "2. Consume nutrient-rich foods\n",
      "3. Include protein-rich foods\n",
      "4. Consume easily digestible foods\n",
      "5. Limit fatty foods\n",
      "6. Avoid alcohol and caffeine\n",
      "7. Include vitamin C-rich foods\n",
      "8. Consult a healthcare professional\n",
      "9. Rest and conserve energy\n",
      "10. Gradually resume normal diet\n",
      "\n",
      "Diet Recommendations:\n",
      "1. ['Hepatitis A Diet', 'High-Calorie Diet', 'Soft and bland foods', 'Hydration', 'Protein-rich foods']\n"
     ]
    }
   ],
   "source": [
    "# User input\n",
    "user_disease = input(\"Enter your disease: \")\n",
    "corrected_disease = correct_spelling(user_disease.lower(), all_diseases)\n",
    "medicine_info = fetch_medicine(corrected_disease)\n",
    "\n",
    "# Output results\n",
    "print(f\"\\nRecommended Medicines for: {corrected_disease}\")\n",
    "\n",
    "if medicine_info['medications']:\n",
    "    print(\"\\nMedications:\")\n",
    "    for i, med in enumerate(medicine_info['medications'], 1):\n",
    "        print(f\"{i}. {med}\")\n",
    "else:\n",
    "    print(\"\\nNo medications available.\")\n",
    "\n",
    "print(f\"\\nDescription: {medicine_info.get('description', 'No description available.')}\")\n",
    "\n",
    "if medicine_info['precautions']:\n",
    "    print(\"\\nPrecautions:\")\n",
    "    for i, p in enumerate(medicine_info['precautions'][0], 1):\n",
    "        print(f\"{i}. {p}\")\n",
    "else:\n",
    "    print(\"\\nNo precautions available.\")\n",
    "\n",
    "if medicine_info['workout']:\n",
    "    print(\"\\nWorkout Recommendations:\")\n",
    "    for i, wrk in enumerate(medicine_info['workout'], 1):\n",
    "        print(f\"{i}. {wrk}\")\n",
    "else:\n",
    "    print(\"\\nNo workout recommendations available.\")\n",
    "\n",
    "if medicine_info['diets']:\n",
    "    print(\"\\nDiet Recommendations:\")\n",
    "    for i, diet in enumerate(medicine_info['diets'], 1):\n",
    "        print(f\"{i}. {diet}\")\n",
    "else:\n",
    "    print(\"\\nNo dietary recommendations available.\")"
   ]
  },
  {
   "cell_type": "code",
   "execution_count": null,
   "id": "7c6534bc",
   "metadata": {},
   "outputs": [],
   "source": []
  }
 ],
 "metadata": {
  "kernelspec": {
   "display_name": "Python 3 (ipykernel)",
   "language": "python",
   "name": "python3"
  },
  "language_info": {
   "codemirror_mode": {
    "name": "ipython",
    "version": 3
   },
   "file_extension": ".py",
   "mimetype": "text/x-python",
   "name": "python",
   "nbconvert_exporter": "python",
   "pygments_lexer": "ipython3",
   "version": "3.11.4"
  }
 },
 "nbformat": 4,
 "nbformat_minor": 5
}
